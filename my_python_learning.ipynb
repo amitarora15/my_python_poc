{
 "cells": [
  {
   "metadata": {},
   "cell_type": "markdown",
   "source": "#### Import ",
   "id": "f7c577911db1a4b"
  },
  {
   "metadata": {
    "ExecuteTime": {
     "end_time": "2024-07-24T13:12:34.252730Z",
     "start_time": "2024-07-24T13:12:34.248277Z"
    }
   },
   "cell_type": "code",
   "source": [
    "from pprint import pprint as pp\n",
    "print(\"Hello World\")"
   ],
   "id": "initial_id",
   "outputs": [
    {
     "name": "stdout",
     "output_type": "stream",
     "text": [
      "Hello World\n"
     ]
    }
   ],
   "execution_count": 26
  },
  {
   "metadata": {},
   "cell_type": "markdown",
   "source": "#### Data Types",
   "id": "93fc20715ed1d802"
  },
  {
   "metadata": {
    "ExecuteTime": {
     "end_time": "2024-07-24T12:55:31.252323Z",
     "start_time": "2024-07-24T12:55:31.249409Z"
    }
   },
   "cell_type": "code",
   "source": "type(\"False\")",
   "id": "79e998b0687a7def",
   "outputs": [
    {
     "data": {
      "text/plain": [
       "str"
      ]
     },
     "execution_count": 5,
     "metadata": {},
     "output_type": "execute_result"
    }
   ],
   "execution_count": 5
  },
  {
   "metadata": {
    "ExecuteTime": {
     "end_time": "2024-07-24T12:56:54.916367Z",
     "start_time": "2024-07-24T12:56:54.913343Z"
    }
   },
   "cell_type": "code",
   "source": [
    "z=3+4j\n",
    "print(z, z.real, z.imag, abs(z), sep=\"\\n\")"
   ],
   "id": "a859163745684716",
   "outputs": [
    {
     "name": "stdout",
     "output_type": "stream",
     "text": [
      "(3+4j)\n",
      "3.0\n",
      "4.0\n",
      "5.0\n"
     ]
    }
   ],
   "execution_count": 8
  },
  {
   "metadata": {
    "ExecuteTime": {
     "end_time": "2024-07-24T12:57:37.053774Z",
     "start_time": "2024-07-24T12:57:37.052119Z"
    }
   },
   "cell_type": "code",
   "source": [
    "a=b=c=10\n",
    "print(a, b, c, sep=\"\\n\")"
   ],
   "id": "b7fe4cfb323fb827",
   "outputs": [
    {
     "name": "stdout",
     "output_type": "stream",
     "text": [
      "10\n",
      "10\n",
      "10\n"
     ]
    }
   ],
   "execution_count": 9
  },
  {
   "metadata": {
    "ExecuteTime": {
     "end_time": "2024-07-24T12:57:51.877357Z",
     "start_time": "2024-07-24T12:57:51.875325Z"
    }
   },
   "cell_type": "code",
   "source": [
    "a,b,c,d=1,2,3,4\n",
    "print(a,b,c,d,sep=\"\\n\")"
   ],
   "id": "973cb61fdf48ac95",
   "outputs": [
    {
     "name": "stdout",
     "output_type": "stream",
     "text": [
      "1\n",
      "2\n",
      "3\n",
      "4\n"
     ]
    }
   ],
   "execution_count": 10
  },
  {
   "metadata": {},
   "cell_type": "markdown",
   "source": "#### Conditional & Loops",
   "id": "df48e50e2352cc64"
  },
  {
   "metadata": {
    "ExecuteTime": {
     "end_time": "2024-07-24T13:09:07.700822Z",
     "start_time": "2024-07-24T13:09:07.697050Z"
    }
   },
   "cell_type": "code",
   "source": [
    "num = 12\n",
    "if num < 5:\n",
    "    print(\"Hello\")\n",
    "    print(\"World\")\n",
    "elif 5 < num < 10 and True:\n",
    "    print(\"number between 5 and 10\")\n",
    "else:\n",
    "    print(\"number greater than 10\")"
   ],
   "id": "dacb3ea6e242f42a",
   "outputs": [
    {
     "name": "stdout",
     "output_type": "stream",
     "text": [
      "number greater than 10\n"
     ]
    }
   ],
   "execution_count": 15
  },
  {
   "metadata": {
    "ExecuteTime": {
     "end_time": "2024-07-24T13:13:54.535110Z",
     "start_time": "2024-07-24T13:13:54.533223Z"
    }
   },
   "cell_type": "code",
   "source": [
    "for i in range(1,12,2):\n",
    "    print(i, end=\",\")"
   ],
   "id": "7eb2d948300e1dba",
   "outputs": [
    {
     "name": "stdout",
     "output_type": "stream",
     "text": [
      "1,3,5,7,9,11,"
     ]
    }
   ],
   "execution_count": 32
  },
  {
   "metadata": {
    "ExecuteTime": {
     "end_time": "2024-07-24T13:19:12.217905Z",
     "start_time": "2024-07-24T13:19:09.542239Z"
    }
   },
   "cell_type": "code",
   "source": [
    "name=input(\"Your name\")\n",
    "print(name)"
   ],
   "id": "94e684465449ece0",
   "outputs": [
    {
     "name": "stdout",
     "output_type": "stream",
     "text": [
      "Amit\n"
     ]
    }
   ],
   "execution_count": 33
  },
  {
   "metadata": {},
   "cell_type": "markdown",
   "source": "#### Function",
   "id": "ebbcb316220b7cc4"
  },
  {
   "metadata": {
    "ExecuteTime": {
     "end_time": "2024-07-24T13:28:12.977573Z",
     "start_time": "2024-07-24T13:28:12.974262Z"
    }
   },
   "cell_type": "code",
   "source": [
    "def add(a : int = 2, b : int = 2) -> int:\n",
    "    c = a+b\n",
    "    return c\n",
    "\n",
    "def subtract(a : int = 2, b : int = 2) -> int:\n",
    "    return a-b\n",
    "\n",
    "print(add(5))\n",
    "print(subtract(5))"
   ],
   "id": "1308270ecbc83e2e",
   "outputs": [
    {
     "name": "stdout",
     "output_type": "stream",
     "text": [
      "7\n",
      "3\n"
     ]
    }
   ],
   "execution_count": 42
  },
  {
   "metadata": {
    "ExecuteTime": {
     "end_time": "2024-07-24T13:33:16.357291Z",
     "start_time": "2024-07-24T13:33:16.354325Z"
    }
   },
   "cell_type": "code",
   "source": [
    "count = 0\n",
    "def show_count():\n",
    "    print(count)\n",
    "    \n",
    "def set_count(c1):\n",
    "    global count\n",
    "    count = c1\n",
    "\n",
    "show_count()\n",
    "set_count(5)\n",
    "show_count()"
   ],
   "id": "900272f6c7936880",
   "outputs": [
    {
     "name": "stdout",
     "output_type": "stream",
     "text": [
      "0\n",
      "5\n"
     ]
    }
   ],
   "execution_count": 46
  },
  {
   "metadata": {
    "ExecuteTime": {
     "end_time": "2024-07-24T13:43:10.831251Z",
     "start_time": "2024-07-24T13:43:10.828664Z"
    }
   },
   "cell_type": "code",
   "source": [
    "if __name__ == \"__main__\":\n",
    "    show_count()"
   ],
   "id": "ee70099ec5eed8c6",
   "outputs": [
    {
     "name": "stdout",
     "output_type": "stream",
     "text": [
      "5\n"
     ]
    }
   ],
   "execution_count": 52
  },
  {
   "metadata": {
    "ExecuteTime": {
     "end_time": "2024-07-24T13:43:36.493636Z",
     "start_time": "2024-07-24T13:43:36.489841Z"
    }
   },
   "cell_type": "code",
   "source": "dir(int)",
   "id": "5f0492ef421509c0",
   "outputs": [
    {
     "data": {
      "text/plain": [
       "['__abs__',\n",
       " '__add__',\n",
       " '__and__',\n",
       " '__bool__',\n",
       " '__ceil__',\n",
       " '__class__',\n",
       " '__delattr__',\n",
       " '__dir__',\n",
       " '__divmod__',\n",
       " '__doc__',\n",
       " '__eq__',\n",
       " '__float__',\n",
       " '__floor__',\n",
       " '__floordiv__',\n",
       " '__format__',\n",
       " '__ge__',\n",
       " '__getattribute__',\n",
       " '__getnewargs__',\n",
       " '__getstate__',\n",
       " '__gt__',\n",
       " '__hash__',\n",
       " '__index__',\n",
       " '__init__',\n",
       " '__init_subclass__',\n",
       " '__int__',\n",
       " '__invert__',\n",
       " '__le__',\n",
       " '__lshift__',\n",
       " '__lt__',\n",
       " '__mod__',\n",
       " '__mul__',\n",
       " '__ne__',\n",
       " '__neg__',\n",
       " '__new__',\n",
       " '__or__',\n",
       " '__pos__',\n",
       " '__pow__',\n",
       " '__radd__',\n",
       " '__rand__',\n",
       " '__rdivmod__',\n",
       " '__reduce__',\n",
       " '__reduce_ex__',\n",
       " '__repr__',\n",
       " '__rfloordiv__',\n",
       " '__rlshift__',\n",
       " '__rmod__',\n",
       " '__rmul__',\n",
       " '__ror__',\n",
       " '__round__',\n",
       " '__rpow__',\n",
       " '__rrshift__',\n",
       " '__rshift__',\n",
       " '__rsub__',\n",
       " '__rtruediv__',\n",
       " '__rxor__',\n",
       " '__setattr__',\n",
       " '__sizeof__',\n",
       " '__str__',\n",
       " '__sub__',\n",
       " '__subclasshook__',\n",
       " '__truediv__',\n",
       " '__trunc__',\n",
       " '__xor__',\n",
       " 'as_integer_ratio',\n",
       " 'bit_count',\n",
       " 'bit_length',\n",
       " 'conjugate',\n",
       " 'denominator',\n",
       " 'from_bytes',\n",
       " 'imag',\n",
       " 'is_integer',\n",
       " 'numerator',\n",
       " 'real',\n",
       " 'to_bytes']"
      ]
     },
     "execution_count": 53,
     "metadata": {},
     "output_type": "execute_result"
    }
   ],
   "execution_count": 53
  },
  {
   "metadata": {
    "ExecuteTime": {
     "end_time": "2024-07-24T13:54:42.514003Z",
     "start_time": "2024-07-24T13:54:42.511631Z"
    }
   },
   "cell_type": "code",
   "source": [
    "class Square:\n",
    "    def __init__(self, x : int):\n",
    "        self.side = x\n",
    "        self.area= self.side * self.side\n",
    "        self.perimeter = 4 * self.side\n",
    "    \n",
    "    def __repr__(self):\n",
    "        return f\"Area of Square: {self.area}\"\n",
    "\n",
    "sq = Square(5)\n",
    "print(sq)\n",
    "        "
   ],
   "id": "2ccdfca8f1e13fbe",
   "outputs": [
    {
     "name": "stdout",
     "output_type": "stream",
     "text": [
      "Area of Square: 25\n"
     ]
    }
   ],
   "execution_count": 57
  },
  {
   "metadata": {},
   "cell_type": "markdown",
   "source": "",
   "id": "d462b7c3bf349a57"
  },
  {
   "metadata": {
    "ExecuteTime": {
     "end_time": "2024-07-24T14:00:14.781819Z",
     "start_time": "2024-07-24T14:00:13.080589Z"
    }
   },
   "cell_type": "code",
   "source": [
    "for i in range(int(input(\"Enter a number\"))): \n",
    "    print(i, end=\",\")\n",
    "else:\n",
    "    print(\"\\nend\", end=\",\")\n",
    "    print(i)"
   ],
   "id": "9dcd21be638fc69e",
   "outputs": [
    {
     "name": "stdout",
     "output_type": "stream",
     "text": [
      "0,1,2,3,\n",
      "end,3\n"
     ]
    }
   ],
   "execution_count": 69
  },
  {
   "metadata": {
    "ExecuteTime": {
     "end_time": "2024-07-24T14:03:44.253971Z",
     "start_time": "2024-07-24T14:03:44.250519Z"
    }
   },
   "cell_type": "code",
   "source": [
    "#This is comment\n",
    "\"\"\"\n",
    "for i in range(int(input(\"Enter a number\"))): print(i, end=\",\")\n",
    "\"\"\""
   ],
   "id": "54585143b52997ac",
   "outputs": [
    {
     "data": {
      "text/plain": [
       "'\\nfor i in range(int(input(\"Enter a number\"))): print(i, end=\",\")\\n'"
      ]
     },
     "execution_count": 70,
     "metadata": {},
     "output_type": "execute_result"
    }
   ],
   "execution_count": 70
  },
  {
   "metadata": {},
   "cell_type": "markdown",
   "source": "#### Strings (immutable)",
   "id": "5f5c7af24c9e04c8"
  },
  {
   "metadata": {
    "ExecuteTime": {
     "end_time": "2024-07-25T14:11:45.338221Z",
     "start_time": "2024-07-25T14:11:45.333841Z"
    }
   },
   "cell_type": "code",
   "source": [
    "str1=\"Amit\"\n",
    "str2=\"Divya\"\n",
    "str3='.'.join((str1, str2))\n",
    "str4 = str3*3\n",
    "print(f'str3 = {str3}')\n",
    "print(f'str4 = {str4}')\n",
    "print(str1.join(str2))\n",
    "print(str1[0])\n",
    "print(str1[-2])\n",
    "print(\"v\" in str2)\n",
    "first,_,last=str3.partition(\".\")\n",
    "print(f'First and last partition of str3 ({str3}) are {first},{last}')\n",
    "print(f'str3[:3] = {str3[:3]}')\n",
    "print(f'str3[3:] = {str3[3:]}')\n",
    "print(str3[1:-2])\n",
    "print(str3[1:4])\n",
    "print(f'jump of 2 character from 2nd character to last-1 for string {str3} is - {str3[1:-1:2]}')\n",
    "print(len(str3), str3.upper())\n",
    "print(str3.split(\".\"))\n",
    "print(str3.strip(\"t\"))\n",
    "s=\"first\"\"d\"\n",
    "print(s)\n",
    "path = r'C:\\Users\\Amit'\n",
    "print(path)\n",
    "print(\"amit\".capitalize())"
   ],
   "id": "1675e9f117fd6528",
   "outputs": [
    {
     "name": "stdout",
     "output_type": "stream",
     "text": [
      "str3 = Amit.Divya\n",
      "str4 = Amit.DivyaAmit.DivyaAmit.Divya\n",
      "DAmitiAmitvAmityAmita\n",
      "A\n",
      "i\n",
      "True\n",
      "First and last partition of str3 (Amit.Divya) are Amit,Divya\n",
      "str3[:3] = Ami\n",
      "str3[3:] = t.Divya\n",
      "mit.Div\n",
      "mit\n",
      "jump of 2 character from 2nd character to last-1 for string Amit.Divya is - mtDv\n",
      "10 AMIT.DIVYA\n",
      "['Amit', 'Divya']\n",
      "Amit.Divya\n",
      "firstd\n",
      "C:\\Users\\Amit\n",
      "Amit\n"
     ]
    }
   ],
   "execution_count": 44
  },
  {
   "metadata": {},
   "cell_type": "markdown",
   "source": "#### List (mutable and heterogeneous)",
   "id": "d4169a2919826d64"
  },
  {
   "metadata": {
    "ExecuteTime": {
     "end_time": "2024-07-26T07:41:30.296918Z",
     "start_time": "2024-07-26T07:41:30.289863Z"
    }
   },
   "cell_type": "code",
   "source": [
    "l=[1,\"amit\",2,4]\n",
    "print(l)\n",
    "print(l[0:-1:2])\n",
    "#l[4]=5 // error as this is non-existant index\n",
    "l.append(5)\n",
    "print(l)\n",
    "for i in l:\n",
    "    print(i, end=\",\")\n",
    "print()    \n",
    "for i, j in enumerate(l):\n",
    "    print(i,j, sep=\",\", end=\"|\")\n",
    "l1 = [\"test\",\"hello\"]\n",
    "print()\n",
    "print(f\"l+l1 = {l+l1}\")\n",
    "l1.insert(4, \"my\")\n",
    "print(l1)\n",
    "l.append(l1)\n",
    "print(f\"l.append(l1) = {l}\")\n",
    "l.extend(l1)\n",
    "print(f\"l.extend(l1) = {l}\")\n",
    "l.remove('my')\n",
    "print(f\"l.remove('my') = {l}\")\n",
    "l.reverse()\n",
    "print(l)\n",
    "k=l.pop()\n",
    "print(f\"Popped element {k}\")\n",
    "l[2:4]=[]\n",
    "print(f\"list after clear and pop = {l}\")\n",
    "new_l=l.copy()\n",
    "print(new_l)\n",
    "k=new_l.pop()\n",
    "print(f\"popped element {k}\")\n",
    "print(new_l.count(4))\n",
    "cons_list = list(range(10))\n",
    "print(cons_list)\n"
   ],
   "id": "8b89d4b1779a1b4f",
   "outputs": [
    {
     "name": "stdout",
     "output_type": "stream",
     "text": [
      "[1, 'amit', 2, 4]\n",
      "[1, 2]\n",
      "[1, 'amit', 2, 4, 5]\n",
      "1,amit,2,4,5,\n",
      "0,1|1,amit|2,2|3,4|4,5|\n",
      "l+l1 = [1, 'amit', 2, 4, 5, 'test', 'hello']\n",
      "['test', 'hello', 'my']\n",
      "l.append(l1) = [1, 'amit', 2, 4, 5, ['test', 'hello', 'my']]\n",
      "l.extend(l1) = [1, 'amit', 2, 4, 5, ['test', 'hello', 'my'], 'test', 'hello', 'my']\n",
      "l.remove('my') = [1, 'amit', 2, 4, 5, ['test', 'hello', 'my'], 'test', 'hello']\n",
      "['hello', 'test', ['test', 'hello', 'my'], 5, 4, 2, 'amit', 1]\n",
      "Popped element 1\n",
      "list after clear and pop = ['hello', 'test', 4, 2, 'amit']\n",
      "['hello', 'test', 4, 2, 'amit']\n",
      "popped element amit\n",
      "1\n",
      "[0, 1, 2, 3, 4, 5, 6, 7, 8, 9]\n"
     ]
    }
   ],
   "execution_count": 97
  },
  {
   "metadata": {},
   "cell_type": "markdown",
   "source": "#### Dictionary (immutable and non heterogeneous keys)",
   "id": "79f5fa1dde938597"
  },
  {
   "metadata": {
    "ExecuteTime": {
     "end_time": "2024-07-26T07:59:53.344531Z",
     "start_time": "2024-07-26T07:59:53.342005Z"
    }
   },
   "cell_type": "code",
   "source": [
    "d={}\n",
    "d[\"Amit\"]=\"Male\"\n",
    "d[\"Divya\"]=\"FeMale\"\n",
    "print(d[\"Divya\"])\n",
    "d[\"Divya\"]=\"Fe-male\"\n",
    "print(d)\n",
    "d1 = {}\n",
    "d1 = {\"amit\":\"Male\",\"Divya\":\"Female\"}\n",
    "print(d1)\n",
    "del d1[\"Divya\"]\n",
    "print(d1)\n",
    "del d\n",
    "#print(d)\n",
    "d1[\"Divya\"]=\"Fe-male\"\n",
    "print(f'length of d1 is now {len(d1)}')\n",
    "print(f\"sorted keys in d1 {sorted(d1.keys())}\")\n",
    "print(f'amit in d1 {\"amit\" in d1}')\n",
    "print(f'Values in dict = {d1.values()}')\n",
    "print(f'items in d1 {d1.items()}')\n",
    "d1.update({('a',1),('b',2)})\n",
    "print(f'Updated values in d1 {d1}')\n",
    "\n",
    "def add(a,b): return a +b\n",
    "def subtract(a,b): return a - b\n",
    "\n",
    "func = {'add' : add(1, 3), 'subtract' : subtract(1, 3) }\n",
    "print(func)"
   ],
   "id": "daaa3fa29d35cb8d",
   "outputs": [
    {
     "name": "stdout",
     "output_type": "stream",
     "text": [
      "FeMale\n",
      "{'Amit': 'Male', 'Divya': 'Fe-male'}\n",
      "{'amit': 'Male', 'Divya': 'Female'}\n",
      "{'amit': 'Male'}\n",
      "length of d1 is now 2\n",
      "sorted keys in d1 ['Divya', 'amit']\n",
      "amit in d1 True\n",
      "Values in dict = dict_values(['Male', 'Fe-male'])\n",
      "items in d1 dict_items([('amit', 'Male'), ('Divya', 'Fe-male')])\n",
      "Updated values in d1 {'amit': 'Male', 'Divya': 'Fe-male', 'b': 2, 'a': 1}\n",
      "{'add': 4, 'subtract': -2}\n"
     ]
    }
   ],
   "execution_count": 123
  },
  {
   "metadata": {},
   "cell_type": "markdown",
   "source": "#### Tuple (mutable & heterogeneous)",
   "id": "18adea451b0fe2d2"
  },
  {
   "metadata": {
    "ExecuteTime": {
     "end_time": "2024-07-26T11:04:48.230983Z",
     "start_time": "2024-07-26T11:04:48.228232Z"
    }
   },
   "cell_type": "code",
   "source": [
    "tup = (1,\"Amit\",(10.0,11.0))\n",
    "print(tup[1:])\n",
    "a, b = tup[1:]\n",
    "print(a, b)"
   ],
   "id": "aa636d89d29fa12a",
   "outputs": [
    {
     "name": "stdout",
     "output_type": "stream",
     "text": [
      "('Amit', (10.0, 11.0))\n",
      "Amit (10.0, 11.0)\n"
     ]
    }
   ],
   "execution_count": 129
  },
  {
   "metadata": {},
   "cell_type": "markdown",
   "source": "#### Set (mutable, unordered)",
   "id": "f084ef2de384da42"
  },
  {
   "metadata": {
    "ExecuteTime": {
     "end_time": "2024-07-26T11:12:14.428454Z",
     "start_time": "2024-07-26T11:12:14.426153Z"
    }
   },
   "cell_type": "code",
   "source": [
    "se = {1,2, 3, 2}\n",
    "print(se)\n",
    "se.add(4)\n",
    "#se.update(6)\n",
    "se.discard(2)\n",
    "print(f'se is {se}')\n",
    "\n",
    "se1 = {1,2,4,5}\n",
    "print(f'se1 is {se1}')\n",
    "print(f'se union se1 {se1.union(se)}')\n",
    "print(f'se intersection se1 {se1.intersection(se)}')\n",
    "print(f'se difference se1 {se1.difference(se)}')\n",
    "print(f'se symmetric difference se1 {se1.symmetric_difference(se)}') #other set is also added\n",
    "print(f'se super set {se1.issuperset(se)}')\n",
    "print(f'se super set {se1.issubset(se)}')\n",
    "print(f'se super set {se1.isdisjoint(se)}')"
   ],
   "id": "1b04cd2d6c0bb04c",
   "outputs": [
    {
     "name": "stdout",
     "output_type": "stream",
     "text": [
      "{1, 2, 3}\n",
      "se is {1, 3, 4}\n",
      "se1 is {1, 2, 4, 5}\n",
      "se union se1 {1, 2, 3, 4, 5}\n",
      "se intersection se1 {1, 4}\n",
      "se difference se1 {2, 5}\n",
      "se symmetric difference se1 {2, 3, 5}\n",
      "se super set False\n",
      "se super set False\n",
      "se super set False\n"
     ]
    }
   ],
   "execution_count": 145
  },
  {
   "metadata": {
    "ExecuteTime": {
     "end_time": "2024-07-26T12:20:59.516834Z",
     "start_time": "2024-07-26T12:20:59.513854Z"
    }
   },
   "cell_type": "code",
   "source": [
    "LIMIT = 30\n",
    "print('list operation= ', sum(range(3, LIMIT, 3)) + sum(range(5, LIMIT, 5)) - sum(range(15, LIMIT, 15)))\n",
    "\n",
    "print('set operation =', sum(set(range(3, LIMIT, 3)) | set(range(5, LIMIT, 5))))"
   ],
   "id": "98b516a60fd22cae",
   "outputs": [
    {
     "name": "stdout",
     "output_type": "stream",
     "text": [
      "list operation=  195\n",
      "set operation = 195\n"
     ]
    }
   ],
   "execution_count": 170
  },
  {
   "metadata": {},
   "cell_type": "markdown",
   "source": "#### Functional Programming (Lambda)",
   "id": "3ecbbb49592f38fc"
  },
  {
   "metadata": {
    "ExecuteTime": {
     "end_time": "2024-07-26T11:56:34.578681Z",
     "start_time": "2024-07-26T11:56:34.575231Z"
    }
   },
   "cell_type": "code",
   "source": [
    "my_list = [1,2,3,4,5]\n",
    "print(f'Filtered even list {list(filter(lambda x: x%2==0,my_list))}')\n",
    "print(f'Mapped list {list(map(lambda x: x*2,my_list))}')\n",
    "print(f'list comprehension multiply by 2 for even number -> {[x*2 for x in my_list if x%2==0]}')\n",
    "\n",
    "other_list = [6,7,8,9]\n",
    "print(f'zipped list {list(zip(my_list,other_list))}')"
   ],
   "id": "495eb82c250ea47",
   "outputs": [
    {
     "name": "stdout",
     "output_type": "stream",
     "text": [
      "Filtered even list [2, 4]\n",
      "Mapped list [2, 4, 6, 8, 10]\n",
      "list comprehension multiply by 2 for even number -> [4, 8]\n",
      "zipped list [(1, 6), (2, 7), (3, 8), (4, 9)]\n"
     ]
    }
   ],
   "execution_count": 152
  },
  {
   "metadata": {
    "ExecuteTime": {
     "end_time": "2024-07-26T12:12:38.134137Z",
     "start_time": "2024-07-26T12:12:38.131960Z"
    }
   },
   "cell_type": "code",
   "source": [
    "sorted??\n",
    "print(id(sorted))\n",
    "print(sorted.__name__)\n",
    "print(sorted.__dir__())"
   ],
   "id": "6dd245d1965a47d1",
   "outputs": [
    {
     "name": "stdout",
     "output_type": "stream",
     "text": [
      "4384482912\n",
      "sorted\n",
      "['__repr__', '__hash__', '__call__', '__getattribute__', '__lt__', '__le__', '__eq__', '__ne__', '__gt__', '__ge__', '__reduce__', '__module__', '__doc__', '__name__', '__qualname__', '__self__', '__text_signature__', '__new__', '__str__', '__setattr__', '__delattr__', '__init__', '__reduce_ex__', '__getstate__', '__subclasshook__', '__init_subclass__', '__format__', '__sizeof__', '__dir__', '__class__']\n"
     ]
    }
   ],
   "execution_count": 159
  },
  {
   "metadata": {},
   "cell_type": "markdown",
   "source": "#### Generator",
   "id": "36875a8ea0065f38"
  },
  {
   "metadata": {
    "ExecuteTime": {
     "end_time": "2024-07-26T16:29:15.783705Z",
     "start_time": "2024-07-26T16:29:15.780495Z"
    }
   },
   "cell_type": "code",
   "source": [
    "def gen(x):\n",
    "    for i in range(x):\n",
    "        #print(\"\\nYielding the value\",i, end=\",\")\n",
    "        yield i\n",
    "\n",
    "print('\\n',list(x*x for x in gen(10) if x % 2 == 0))\n",
    "\n",
    "g8 = gen(8)\n",
    "for i in g8:\n",
    "    print(i, end=\",\")"
   ],
   "id": "767643ed47eb0d19",
   "outputs": [
    {
     "name": "stdout",
     "output_type": "stream",
     "text": [
      "\n",
      " [0, 4, 16, 36, 64]\n",
      "0,1,2,3,4,5,6,7,"
     ]
    }
   ],
   "execution_count": 178
  },
  {
   "metadata": {},
   "cell_type": "markdown",
   "source": "#### Try catch exception handling",
   "id": "986dd58270d26b46"
  },
  {
   "metadata": {
    "ExecuteTime": {
     "end_time": "2024-07-26T16:40:28.831585Z",
     "start_time": "2024-07-26T16:40:28.828725Z"
    }
   },
   "cell_type": "code",
   "source": [
    "try:\n",
    "    print(\"Trying to raise an exception\")\n",
    "    raise ZeroDivisionError(\"Division by zero Error signalled\")\n",
    "except ZeroDivisionError as e:\n",
    "    print(f'Error : {e!r}')\n",
    "finally:\n",
    "    print(\"Call finally done\")"
   ],
   "id": "b60320bb4391739e",
   "outputs": [
    {
     "name": "stdout",
     "output_type": "stream",
     "text": [
      "Trying to raise an exception\n",
      "Error : ZeroDivisionError('Division by zero Error signalled')\n",
      "Call finally done\n"
     ]
    }
   ],
   "execution_count": 197
  },
  {
   "metadata": {},
   "cell_type": "markdown",
   "source": "#### Any All",
   "id": "432d11fef9183f10"
  },
  {
   "metadata": {
    "ExecuteTime": {
     "end_time": "2024-07-26T17:04:58.134360Z",
     "start_time": "2024-07-26T17:04:58.132389Z"
    }
   },
   "cell_type": "code",
   "source": [
    "print(all([False, True, True]))\n",
    "print(any([False, True, True]))\n",
    "print(all(name == name.title() for name in ['John','Jane']))"
   ],
   "id": "4a194044171250c8",
   "outputs": [
    {
     "name": "stdout",
     "output_type": "stream",
     "text": [
      "False\n",
      "True\n",
      "True\n"
     ]
    }
   ],
   "execution_count": 202
  },
  {
   "metadata": {},
   "cell_type": "markdown",
   "source": "### Class",
   "id": "863ffe92207f1652"
  },
  {
   "metadata": {
    "ExecuteTime": {
     "end_time": "2024-07-26T17:46:01.570888Z",
     "start_time": "2024-07-26T17:46:01.566170Z"
    }
   },
   "cell_type": "code",
   "source": [
    "class Person:\n",
    "    def __init__(self, name, age):\n",
    "        self.name = name\n",
    "        self.age = age\n",
    "        \n",
    "    def speak(self):\n",
    "        print(f\"Hello {self.name}\")\n",
    "        \n",
    "    def __repr__(self):\n",
    "        return f\"Name: {self.name}, Age: {self.age}\"\n",
    "        \n",
    "p = Person('John', 23)\n",
    "print(p.speak())\n",
    "print(p)\n",
    "print(Person.speak(p))\n",
    "\n",
    "class Male(Person):\n",
    "    \n",
    "    def __init__(self, name, age):\n",
    "        super().__init__(name, age)\n",
    "        self.gender = 'Male'\n",
    "    \n",
    "    def speak(self):\n",
    "        super().speak()\n",
    "        print(f\"Male person name is {self.name}\")\n",
    "        \n",
    "    def __repr__(self):\n",
    "        return f\"Name: {self.name}, Age: {self.age}, Gender: {self.gender}\"\n",
    "    \n",
    "    def male(self):\n",
    "        print(f\"Male person name is {self.name}\")\n",
    "    \n",
    "p1 = Male('John', 23)\n",
    "print(p1,p1.speak())\n",
    "print(p1.male())\n",
    "\n"
   ],
   "id": "131b210cf47227d5",
   "outputs": [
    {
     "name": "stdout",
     "output_type": "stream",
     "text": [
      "Hello John\n",
      "None\n",
      "Name: John, Age: 23\n",
      "Hello John\n",
      "None\n",
      "Hello John\n",
      "Male person name is John\n",
      "Name: John, Age: 23, Gender: Male None\n",
      "Male person name is John\n",
      "None\n"
     ]
    }
   ],
   "execution_count": 210
  },
  {
   "metadata": {},
   "cell_type": "markdown",
   "source": "#### File handling",
   "id": "13447f405b066b7e"
  },
  {
   "metadata": {},
   "cell_type": "code",
   "outputs": [],
   "execution_count": null,
   "source": "",
   "id": "7135df25a9d28620"
  }
 ],
 "metadata": {
  "kernelspec": {
   "display_name": "Python 3",
   "language": "python",
   "name": "python3"
  },
  "language_info": {
   "codemirror_mode": {
    "name": "ipython",
    "version": 2
   },
   "file_extension": ".py",
   "mimetype": "text/x-python",
   "name": "python",
   "nbconvert_exporter": "python",
   "pygments_lexer": "ipython2",
   "version": "2.7.6"
  }
 },
 "nbformat": 4,
 "nbformat_minor": 5
}
