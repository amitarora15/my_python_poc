{
 "cells": [
  {
   "metadata": {},
   "cell_type": "markdown",
   "source": "#### Import ",
   "id": "f7c577911db1a4b"
  },
  {
   "metadata": {},
   "cell_type": "code",
   "source": [
    "from pprint import pprint as pp\n",
    "print(\"Hello World\")"
   ],
   "id": "initial_id",
   "outputs": [],
   "execution_count": null
  },
  {
   "metadata": {},
   "cell_type": "markdown",
   "source": "#### Data Types",
   "id": "93fc20715ed1d802"
  },
  {
   "metadata": {},
   "cell_type": "code",
   "source": "type(\"False\")",
   "id": "79e998b0687a7def",
   "outputs": [],
   "execution_count": null
  },
  {
   "metadata": {},
   "cell_type": "code",
   "source": [
    "z=3+4j\n",
    "print(z, z.real, z.imag, abs(z), sep=\"\\n\")"
   ],
   "id": "a859163745684716",
   "outputs": [],
   "execution_count": null
  },
  {
   "metadata": {},
   "cell_type": "code",
   "source": [
    "a=b=c=10\n",
    "print(a, b, c, sep=\"\\n\")"
   ],
   "id": "b7fe4cfb323fb827",
   "outputs": [],
   "execution_count": null
  },
  {
   "metadata": {},
   "cell_type": "code",
   "source": [
    "a,b,c,d=1,2,3,4\n",
    "print(a,b,c,d,sep=\"\\n\")"
   ],
   "id": "973cb61fdf48ac95",
   "outputs": [],
   "execution_count": null
  },
  {
   "metadata": {},
   "cell_type": "markdown",
   "source": "#### Conditional & Loops",
   "id": "df48e50e2352cc64"
  },
  {
   "metadata": {},
   "cell_type": "code",
   "source": [
    "num = 12\n",
    "if num < 5:\n",
    "    print(\"Hello\")\n",
    "    print(\"World\")\n",
    "elif 5 < num < 10 and True:\n",
    "    print(\"number between 5 and 10\")\n",
    "else:\n",
    "    print(\"number greater than 10\")"
   ],
   "id": "dacb3ea6e242f42a",
   "outputs": [],
   "execution_count": null
  },
  {
   "metadata": {},
   "cell_type": "code",
   "source": [
    "for i in range(1,12,2):\n",
    "    print(i, end=\",\")"
   ],
   "id": "7eb2d948300e1dba",
   "outputs": [],
   "execution_count": null
  },
  {
   "metadata": {},
   "cell_type": "code",
   "source": [
    "name=input(\"Your name\")\n",
    "print(name)"
   ],
   "id": "94e684465449ece0",
   "outputs": [],
   "execution_count": null
  },
  {
   "metadata": {},
   "cell_type": "markdown",
   "source": "#### Function",
   "id": "ebbcb316220b7cc4"
  },
  {
   "metadata": {},
   "cell_type": "code",
   "source": [
    "def add(a : int = 2, b : int = 2) -> int:\n",
    "    c = a+b\n",
    "    return c\n",
    "\n",
    "def subtract(a : int = 2, b : int = 2) -> int:\n",
    "    return a-b\n",
    "\n",
    "print(add(5))\n",
    "print(subtract(5))"
   ],
   "id": "1308270ecbc83e2e",
   "outputs": [],
   "execution_count": null
  },
  {
   "metadata": {},
   "cell_type": "code",
   "source": [
    "count = 0\n",
    "def show_count():\n",
    "    print(count)\n",
    "    \n",
    "def set_count(c1):\n",
    "    global count\n",
    "    count = c1\n",
    "\n",
    "show_count()\n",
    "set_count(5)\n",
    "show_count()"
   ],
   "id": "900272f6c7936880",
   "outputs": [],
   "execution_count": null
  },
  {
   "metadata": {},
   "cell_type": "code",
   "source": [
    "if __name__ == \"__main__\":\n",
    "    show_count()"
   ],
   "id": "ee70099ec5eed8c6",
   "outputs": [],
   "execution_count": null
  },
  {
   "metadata": {},
   "cell_type": "code",
   "source": "dir(int)",
   "id": "5f0492ef421509c0",
   "outputs": [],
   "execution_count": null
  },
  {
   "metadata": {},
   "cell_type": "code",
   "source": [
    "class Square:\n",
    "    def __init__(self, x : int):\n",
    "        self.side = x\n",
    "        self.area= self.side * self.side\n",
    "        self.perimeter = 4 * self.side\n",
    "    \n",
    "    def __repr__(self):\n",
    "        return f\"Area of Square: {self.area}\"\n",
    "\n",
    "sq = Square(5)\n",
    "print(sq)\n",
    "        "
   ],
   "id": "2ccdfca8f1e13fbe",
   "outputs": [],
   "execution_count": null
  },
  {
   "metadata": {},
   "cell_type": "markdown",
   "source": "",
   "id": "d462b7c3bf349a57"
  },
  {
   "metadata": {},
   "cell_type": "code",
   "source": [
    "for i in range(int(input(\"Enter a number\"))): \n",
    "    print(i, end=\",\")\n",
    "else:\n",
    "    print(\"\\nend\", end=\",\")\n",
    "    print(i)"
   ],
   "id": "9dcd21be638fc69e",
   "outputs": [],
   "execution_count": null
  },
  {
   "metadata": {},
   "cell_type": "code",
   "source": [
    "#This is comment\n",
    "\"\"\"\n",
    "for i in range(int(input(\"Enter a number\"))): print(i, end=\",\")\n",
    "\"\"\""
   ],
   "id": "54585143b52997ac",
   "outputs": [],
   "execution_count": null
  },
  {
   "metadata": {},
   "cell_type": "markdown",
   "source": "#### Strings (immutable)",
   "id": "5f5c7af24c9e04c8"
  },
  {
   "metadata": {},
   "cell_type": "code",
   "source": [
    "str1=\"Amit\"\n",
    "str2=\"Divya\"\n",
    "str3='.'.join((str1, str2))\n",
    "str4 = str3*3\n",
    "print(f'str3 = {str3}')\n",
    "print(f'str4 = {str4}')\n",
    "print(str1.join(str2))\n",
    "print(str1[0])\n",
    "print(str1[-2])\n",
    "print(\"v\" in str2)\n",
    "first,_,last=str3.partition(\".\")\n",
    "print(f'First and last partition of str3 ({str3}) are {first},{last}')\n",
    "print(f'str3[:3] = {str3[:3]}')\n",
    "print(f'str3[3:] = {str3[3:]}')\n",
    "print(str3[1:-2])\n",
    "print(str3[1:4])\n",
    "print(f'jump of 2 character from 2nd character to last-1 for string {str3} is - {str3[1:-1:2]}')\n",
    "print(len(str3), str3.upper())\n",
    "print(str3.split(\".\"))\n",
    "print(str3.strip(\"t\"))\n",
    "s=\"first\"\"d\"\n",
    "print(s)\n",
    "path = r'C:\\Users\\Amit'\n",
    "print(path)\n",
    "print(\"amit\".capitalize())"
   ],
   "id": "1675e9f117fd6528",
   "outputs": [],
   "execution_count": null
  },
  {
   "metadata": {},
   "cell_type": "markdown",
   "source": "#### List (mutable and heterogeneous)",
   "id": "d4169a2919826d64"
  },
  {
   "metadata": {},
   "cell_type": "code",
   "source": [
    "l=[1,\"amit\",2,4]\n",
    "print(l)\n",
    "print(l[0:-1:2])\n",
    "#l[4]=5 // error as this is non-existant index\n",
    "l.append(5)\n",
    "print(l)\n",
    "for i in l:\n",
    "    print(i, end=\",\")\n",
    "print()    \n",
    "for i, j in enumerate(l):\n",
    "    print(i,j, sep=\",\", end=\"|\")\n",
    "l1 = [\"test\",\"hello\"]\n",
    "print()\n",
    "print(f\"l+l1 = {l+l1}\")\n",
    "l1.insert(4, \"my\")\n",
    "print(l1)\n",
    "l.append(l1)\n",
    "print(f\"l.append(l1) = {l}\")\n",
    "l.extend(l1)\n",
    "print(f\"l.extend(l1) = {l}\")\n",
    "l.remove('my')\n",
    "print(f\"l.remove('my') = {l}\")\n",
    "l.reverse()\n",
    "print(l)\n",
    "k=l.pop()\n",
    "print(f\"Popped element {k}\")\n",
    "l[2:4]=[]\n",
    "print(f\"list after clear and pop = {l}\")\n",
    "new_l=l.copy()\n",
    "print(new_l)\n",
    "k=new_l.pop()\n",
    "print(f\"popped element {k}\")\n",
    "print(new_l.count(4))\n",
    "cons_list = list(range(10))\n",
    "print(cons_list)\n"
   ],
   "id": "8b89d4b1779a1b4f",
   "outputs": [],
   "execution_count": null
  },
  {
   "metadata": {},
   "cell_type": "markdown",
   "source": "#### Dictionary (immutable and non heterogeneous keys)",
   "id": "79f5fa1dde938597"
  },
  {
   "metadata": {},
   "cell_type": "code",
   "source": [
    "d={}\n",
    "d[\"Amit\"]=\"Male\"\n",
    "d[\"Divya\"]=\"FeMale\"\n",
    "print(d[\"Divya\"])\n",
    "d[\"Divya\"]=\"Fe-male\"\n",
    "print(d)\n",
    "d1 = {}\n",
    "d1 = {\"amit\":\"Male\",\"Divya\":\"Female\"}\n",
    "print(d1)\n",
    "del d1[\"Divya\"]\n",
    "print(d1)\n",
    "del d\n",
    "#print(d)\n",
    "d1[\"Divya\"]=\"Fe-male\"\n",
    "print(f'length of d1 is now {len(d1)}')\n",
    "print(f\"sorted keys in d1 {sorted(d1.keys())}\")\n",
    "print(f'amit in d1 {\"amit\" in d1}')\n",
    "print(f'Values in dict = {d1.values()}')\n",
    "print(f'items in d1 {d1.items()}')\n",
    "d1.update({('a',1),('b',2)})\n",
    "print(f'Updated values in d1 {d1}')\n",
    "\n",
    "def add(a,b): return a +b\n",
    "def subtract(a,b): return a - b\n",
    "\n",
    "func = {'add' : add(1, 3), 'subtract' : subtract(1, 3) }\n",
    "print(func)"
   ],
   "id": "daaa3fa29d35cb8d",
   "outputs": [],
   "execution_count": null
  },
  {
   "metadata": {},
   "cell_type": "markdown",
   "source": "#### Tuple (mutable & heterogeneous)",
   "id": "18adea451b0fe2d2"
  },
  {
   "metadata": {},
   "cell_type": "code",
   "source": [
    "tup = (1,\"Amit\",(10.0,11.0))\n",
    "print(tup[1:])\n",
    "a, b = tup[1:]\n",
    "print(a, b)"
   ],
   "id": "aa636d89d29fa12a",
   "outputs": [],
   "execution_count": null
  },
  {
   "metadata": {},
   "cell_type": "markdown",
   "source": "#### Set (mutable, unordered)",
   "id": "f084ef2de384da42"
  },
  {
   "metadata": {},
   "cell_type": "code",
   "source": [
    "se = {1,2, 3, 2}\n",
    "print(se)\n",
    "se.add(4)\n",
    "#se.update(6)\n",
    "se.discard(2)\n",
    "print(f'se is {se}')\n",
    "\n",
    "se1 = {1,2,4,5}\n",
    "print(f'se1 is {se1}')\n",
    "print(f'se union se1 {se1.union(se)}')\n",
    "print(f'se intersection se1 {se1.intersection(se)}')\n",
    "print(f'se difference se1 {se1.difference(se)}')\n",
    "print(f'se symmetric difference se1 {se1.symmetric_difference(se)}') #other set is also added\n",
    "print(f'se super set {se1.issuperset(se)}')\n",
    "print(f'se super set {se1.issubset(se)}')\n",
    "print(f'se super set {se1.isdisjoint(se)}')"
   ],
   "id": "1b04cd2d6c0bb04c",
   "outputs": [],
   "execution_count": null
  },
  {
   "metadata": {},
   "cell_type": "code",
   "source": [
    "LIMIT = 30\n",
    "print('list operation= ', sum(range(3, LIMIT, 3)) + sum(range(5, LIMIT, 5)) - sum(range(15, LIMIT, 15)))\n",
    "\n",
    "print('set operation =', sum(set(range(3, LIMIT, 3)) | set(range(5, LIMIT, 5))))"
   ],
   "id": "98b516a60fd22cae",
   "outputs": [],
   "execution_count": null
  },
  {
   "metadata": {},
   "cell_type": "markdown",
   "source": "#### Functional Programming (Lambda)",
   "id": "3ecbbb49592f38fc"
  },
  {
   "metadata": {},
   "cell_type": "code",
   "source": [
    "my_list = [1,2,3,4,5]\n",
    "print(f'Filtered even list {list(filter(lambda x: x%2==0,my_list))}')\n",
    "print(f'Mapped list {list(map(lambda x: x*2,my_list))}')\n",
    "print(f'list comprehension multiply by 2 for even number -> {[x*2 for x in my_list if x%2==0]}')\n",
    "\n",
    "other_list = [6,7,8,9]\n",
    "print(f'zipped list {list(zip(my_list,other_list))}')"
   ],
   "id": "495eb82c250ea47",
   "outputs": [],
   "execution_count": null
  },
  {
   "metadata": {},
   "cell_type": "code",
   "source": [
    "sorted??\n",
    "print(id(sorted))\n",
    "print(sorted.__name__)\n",
    "print(sorted.__dir__())"
   ],
   "id": "6dd245d1965a47d1",
   "outputs": [],
   "execution_count": null
  },
  {
   "metadata": {},
   "cell_type": "markdown",
   "source": "#### Generator",
   "id": "36875a8ea0065f38"
  },
  {
   "metadata": {},
   "cell_type": "code",
   "source": [
    "def gen(x):\n",
    "    for i in range(x):\n",
    "        #print(\"\\nYielding the value\",i, end=\",\")\n",
    "        yield i\n",
    "\n",
    "print('\\n',list(x*x for x in gen(10) if x % 2 == 0))\n",
    "\n",
    "g8 = gen(8)\n",
    "for i in g8:\n",
    "    print(i, end=\",\")"
   ],
   "id": "767643ed47eb0d19",
   "outputs": [],
   "execution_count": null
  },
  {
   "metadata": {},
   "cell_type": "markdown",
   "source": "#### Try catch exception handling",
   "id": "986dd58270d26b46"
  },
  {
   "metadata": {},
   "cell_type": "code",
   "source": [
    "try:\n",
    "    print(\"Trying to raise an exception\")\n",
    "    raise ZeroDivisionError(\"Division by zero Error signalled\")\n",
    "except ZeroDivisionError as e:\n",
    "    print(f'Error : {e!r}')\n",
    "finally:\n",
    "    print(\"Call finally done\")"
   ],
   "id": "b60320bb4391739e",
   "outputs": [],
   "execution_count": null
  },
  {
   "metadata": {},
   "cell_type": "markdown",
   "source": "#### Any All",
   "id": "432d11fef9183f10"
  },
  {
   "metadata": {},
   "cell_type": "code",
   "source": [
    "print(all([False, True, True]))\n",
    "print(any([False, True, True]))\n",
    "print(all(name == name.title() for name in ['John','Jane']))"
   ],
   "id": "4a194044171250c8",
   "outputs": [],
   "execution_count": null
  },
  {
   "metadata": {},
   "cell_type": "markdown",
   "source": "### Class",
   "id": "863ffe92207f1652"
  },
  {
   "metadata": {},
   "cell_type": "code",
   "source": [
    "class Person:\n",
    "    def __init__(self, name, age):\n",
    "        self.name = name\n",
    "        self.age = age\n",
    "        \n",
    "    def speak(self):\n",
    "        print(f\"Hello {self.name}\")\n",
    "        \n",
    "    def __repr__(self):\n",
    "        return f\"Name: {self.name}, Age: {self.age}\"\n",
    "        \n",
    "p = Person('John', 23)\n",
    "print(p.speak())\n",
    "print(p)\n",
    "print(Person.speak(p))\n",
    "\n",
    "class Male(Person):\n",
    "    \n",
    "    def __init__(self, name, age):\n",
    "        super().__init__(name, age)\n",
    "        self.gender = 'Male'\n",
    "    \n",
    "    def speak(self):\n",
    "        super().speak()\n",
    "        print(f\"Male person name is {self.name}\")\n",
    "        \n",
    "    def __repr__(self):\n",
    "        return f\"Name: {self.name}, Age: {self.age}, Gender: {self.gender}\"\n",
    "    \n",
    "    def male(self):\n",
    "        print(f\"Male person name is {self.name}\")\n",
    "    \n",
    "p1 = Male('John', 23)\n",
    "print(p1,p1.speak())\n",
    "print(p1.male())\n",
    "\n"
   ],
   "id": "131b210cf47227d5",
   "outputs": [],
   "execution_count": null
  },
  {
   "metadata": {},
   "cell_type": "markdown",
   "source": "#### File handling",
   "id": "13447f405b066b7e"
  },
  {
   "metadata": {},
   "cell_type": "code",
   "source": [
    "with open(\"my_python_learning.ipynb\", \"r\") as f:\n",
    "    [print(line) for line in f]"
   ],
   "id": "7135df25a9d28620",
   "outputs": [],
   "execution_count": null
  }
 ],
 "metadata": {
  "kernelspec": {
   "display_name": "Python 3",
   "language": "python",
   "name": "python3"
  },
  "language_info": {
   "codemirror_mode": {
    "name": "ipython",
    "version": 2
   },
   "file_extension": ".py",
   "mimetype": "text/x-python",
   "name": "python",
   "nbconvert_exporter": "python",
   "pygments_lexer": "ipython2",
   "version": "2.7.6"
  }
 },
 "nbformat": 4,
 "nbformat_minor": 5
}
