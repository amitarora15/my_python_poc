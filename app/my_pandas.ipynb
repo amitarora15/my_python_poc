{
 "cells": [
  {
   "cell_type": "code",
   "id": "initial_id",
   "metadata": {
    "collapsed": true,
    "ExecuteTime": {
     "end_time": "2024-07-28T07:06:43.994452Z",
     "start_time": "2024-07-28T07:06:43.601895Z"
    }
   },
   "source": [
    "import pandas as pd\n",
    "import numpy as np"
   ],
   "outputs": [],
   "execution_count": 1
  },
  {
   "metadata": {},
   "cell_type": "markdown",
   "source": "#### Series",
   "id": "214aae02b62801c1"
  },
  {
   "metadata": {
    "ExecuteTime": {
     "end_time": "2024-07-28T07:06:47.516243Z",
     "start_time": "2024-07-28T07:06:47.510391Z"
    }
   },
   "cell_type": "code",
   "source": [
    "ser=pd.Series([\"12\",\"14\"], index=[\"A\",\"B\"], dtype=\"string\")\n",
    "print(ser.values)\n",
    "print(ser.index)\n",
    "print(ser.dtypes)\n",
    "print(ser.shape)\n",
    "print(ser.size)\n",
    "print(ser.ndim)\n",
    "print(ser)"
   ],
   "id": "1581d3cdd721b40a",
   "outputs": [
    {
     "name": "stdout",
     "output_type": "stream",
     "text": [
      "<StringArray>\n",
      "['12', '14']\n",
      "Length: 2, dtype: string\n",
      "Index(['A', 'B'], dtype='object')\n",
      "string\n",
      "(2,)\n",
      "2\n",
      "1\n",
      "A    12\n",
      "B    14\n",
      "dtype: string\n"
     ]
    }
   ],
   "execution_count": 2
  },
  {
   "metadata": {},
   "cell_type": "markdown",
   "source": "#### DataFrame",
   "id": "2884a1f5ef893779"
  },
  {
   "metadata": {
    "ExecuteTime": {
     "end_time": "2024-07-28T07:06:52.801376Z",
     "start_time": "2024-07-28T07:06:52.793020Z"
    }
   },
   "cell_type": "code",
   "source": [
    "## From list\n",
    "l = [[\"Amit\", 42],[\"Divya\",37]]\n",
    "df = pd.DataFrame(l, columns=[\"Name\", \"Age\"], index=[\"First\", \"Second\"])\n",
    "print(df)"
   ],
   "id": "4572d38992b0d44e",
   "outputs": [
    {
     "name": "stdout",
     "output_type": "stream",
     "text": [
      "         Name  Age\n",
      "First    Amit   42\n",
      "Second  Divya   37\n"
     ]
    }
   ],
   "execution_count": 3
  },
  {
   "metadata": {
    "ExecuteTime": {
     "end_time": "2024-07-28T07:06:54.562792Z",
     "start_time": "2024-07-28T07:06:54.559311Z"
    }
   },
   "cell_type": "code",
   "source": [
    "## From numpy\n",
    "data = np.array([[\"Amit\", 42],[\"Divya\",37]])\n",
    "df = pd.DataFrame(data, columns=[\"Name\", \"Age\"], index=[\"First\", \"Second\"])\n",
    "print(df)"
   ],
   "id": "3c6851fdae24017f",
   "outputs": [
    {
     "name": "stdout",
     "output_type": "stream",
     "text": [
      "         Name Age\n",
      "First    Amit  42\n",
      "Second  Divya  37\n"
     ]
    }
   ],
   "execution_count": 4
  },
  {
   "metadata": {
    "ExecuteTime": {
     "end_time": "2024-07-27T07:42:54.917449Z",
     "start_time": "2024-07-27T07:42:54.913699Z"
    }
   },
   "cell_type": "code",
   "source": [
    "## From Dictionary of series\n",
    "ser1 = pd.Series([\"Amit\", \"Divya\"], index=[\"First\", \"Second\"], dtype=\"string\")\n",
    "ser2 = pd.Series([42, 37], index=[\"First\", \"Second\"], dtype=int)\n",
    "dict1 = {\"Name\":ser1, \"Age\":ser2}\n",
    "df = pd.DataFrame(dict1)\n",
    "print(df)"
   ],
   "id": "796b77e69817b331",
   "outputs": [
    {
     "name": "stdout",
     "output_type": "stream",
     "text": [
      "         Name  Age\n",
      "First    Amit   42\n",
      "Second  Divya   37\n"
     ]
    }
   ],
   "execution_count": 11
  },
  {
   "metadata": {
    "ExecuteTime": {
     "end_time": "2024-07-27T07:44:57.413906Z",
     "start_time": "2024-07-27T07:44:57.409683Z"
    }
   },
   "cell_type": "code",
   "source": [
    "## From List of Dictionary\n",
    "dict2 = [{\"Name\":\"Amit\", \"Age\":42}, {\"Name\":\"Divya\", \"Age\":37}]\n",
    "df = pd.DataFrame(dict2, index=[\"First\", \"Second\"])\n",
    "print(df)"
   ],
   "id": "3278484ac3311102",
   "outputs": [
    {
     "name": "stdout",
     "output_type": "stream",
     "text": [
      "         Name  Age\n",
      "First    Amit   42\n",
      "Second  Divya   37\n"
     ]
    }
   ],
   "execution_count": 12
  },
  {
   "metadata": {
    "ExecuteTime": {
     "end_time": "2024-07-27T07:46:14.924222Z",
     "start_time": "2024-07-27T07:46:14.919972Z"
    }
   },
   "cell_type": "code",
   "source": [
    "## From dictionary of list\n",
    "dict3 = {\"Name\" : [\"Amit\", \"Divya\"], \"Age\" : [42, 37]}\n",
    "df = pd.DataFrame(dict3, index=[\"First\", \"Second\"])\n",
    "print(df)"
   ],
   "id": "2cc7a42d8d73f455",
   "outputs": [
    {
     "name": "stdout",
     "output_type": "stream",
     "text": [
      "         Name  Age\n",
      "First    Amit   42\n",
      "Second  Divya   37\n"
     ]
    }
   ],
   "execution_count": 13
  }
 ],
 "metadata": {
  "kernelspec": {
   "display_name": "Python 3",
   "language": "python",
   "name": "python3"
  },
  "language_info": {
   "codemirror_mode": {
    "name": "ipython",
    "version": 2
   },
   "file_extension": ".py",
   "mimetype": "text/x-python",
   "name": "python",
   "nbconvert_exporter": "python",
   "pygments_lexer": "ipython2",
   "version": "2.7.6"
  }
 },
 "nbformat": 4,
 "nbformat_minor": 5
}
