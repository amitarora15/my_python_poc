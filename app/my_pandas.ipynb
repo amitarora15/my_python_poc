{
 "cells": [
  {
   "cell_type": "code",
   "id": "initial_id",
   "metadata": {
    "collapsed": true,
    "ExecuteTime": {
     "end_time": "2024-07-31T17:53:47.743203Z",
     "start_time": "2024-07-31T17:53:47.739374Z"
    }
   },
   "source": [
    "import pandas as pd\n",
    "import numpy as np"
   ],
   "outputs": [],
   "execution_count": 9
  },
  {
   "metadata": {},
   "cell_type": "markdown",
   "source": "#### Series",
   "id": "214aae02b62801c1"
  },
  {
   "metadata": {
    "ExecuteTime": {
     "end_time": "2024-07-31T17:53:47.750046Z",
     "start_time": "2024-07-31T17:53:47.744892Z"
    }
   },
   "cell_type": "code",
   "source": [
    "ser=pd.Series([\"12\",\"14\"], index=[\"A\",\"B\"], dtype=\"string\")\n",
    "print(ser.values)\n",
    "print(ser.index)\n",
    "print(ser.dtypes)\n",
    "print(ser.shape)\n",
    "print(ser.size)\n",
    "print(ser.ndim)\n",
    "print(ser)\n"
   ],
   "id": "1581d3cdd721b40a",
   "outputs": [
    {
     "name": "stdout",
     "output_type": "stream",
     "text": [
      "<StringArray>\n",
      "['12', '14']\n",
      "Length: 2, dtype: string\n",
      "Index(['A', 'B'], dtype='object')\n",
      "string\n",
      "(2,)\n",
      "2\n",
      "1\n",
      "A    12\n",
      "B    14\n",
      "dtype: string\n"
     ]
    }
   ],
   "execution_count": 10
  },
  {
   "metadata": {},
   "cell_type": "markdown",
   "source": "#### DataFrame",
   "id": "2884a1f5ef893779"
  },
  {
   "metadata": {
    "ExecuteTime": {
     "end_time": "2024-07-31T17:53:47.754540Z",
     "start_time": "2024-07-31T17:53:47.751006Z"
    }
   },
   "cell_type": "code",
   "source": [
    "## From list\n",
    "l = [[\"Amit\", 42],[\"Divya\",37]]\n",
    "df = pd.DataFrame(l, columns=[\"Name\", \"Age\"], index=[\"First\", \"Second\"])\n",
    "print(df)"
   ],
   "id": "4572d38992b0d44e",
   "outputs": [
    {
     "name": "stdout",
     "output_type": "stream",
     "text": [
      "         Name  Age\n",
      "First    Amit   42\n",
      "Second  Divya   37\n"
     ]
    }
   ],
   "execution_count": 11
  },
  {
   "metadata": {
    "ExecuteTime": {
     "end_time": "2024-07-31T17:53:47.759129Z",
     "start_time": "2024-07-31T17:53:47.755983Z"
    }
   },
   "cell_type": "code",
   "source": [
    "## From numpy\n",
    "data = np.array([[\"Amit\", 42],[\"Divya\",37]])\n",
    "df = pd.DataFrame(data, columns=[\"Name\", \"Age\"], index=[\"First\", \"Second\"])\n",
    "print(df)"
   ],
   "id": "3c6851fdae24017f",
   "outputs": [
    {
     "name": "stdout",
     "output_type": "stream",
     "text": [
      "         Name Age\n",
      "First    Amit  42\n",
      "Second  Divya  37\n"
     ]
    }
   ],
   "execution_count": 12
  },
  {
   "metadata": {
    "ExecuteTime": {
     "end_time": "2024-07-31T17:53:47.763364Z",
     "start_time": "2024-07-31T17:53:47.759802Z"
    }
   },
   "cell_type": "code",
   "source": [
    "## From Dictionary of series\n",
    "ser1 = pd.Series([\"Amit\", \"Divya\"], index=[\"First\", \"Second\"], dtype=\"string\")\n",
    "ser2 = pd.Series([42, 37], index=[\"First\", \"Second\"], dtype=int)\n",
    "dict1 = {\"Name\":ser1, \"Age\":ser2}\n",
    "df = pd.DataFrame(dict1)\n",
    "print(df)"
   ],
   "id": "796b77e69817b331",
   "outputs": [
    {
     "name": "stdout",
     "output_type": "stream",
     "text": [
      "         Name  Age\n",
      "First    Amit   42\n",
      "Second  Divya   37\n"
     ]
    }
   ],
   "execution_count": 13
  },
  {
   "metadata": {
    "ExecuteTime": {
     "end_time": "2024-07-31T17:53:47.766522Z",
     "start_time": "2024-07-31T17:53:47.764113Z"
    }
   },
   "cell_type": "code",
   "source": [
    "## From List of Dictionary\n",
    "dict2 = [{\"Name\":\"Amit\", \"Age\":42}, {\"Name\":\"Divya\", \"Age\":37}]\n",
    "df = pd.DataFrame(dict2, index=[\"First\", \"Second\"])\n",
    "print(df)"
   ],
   "id": "3278484ac3311102",
   "outputs": [
    {
     "name": "stdout",
     "output_type": "stream",
     "text": [
      "         Name  Age\n",
      "First    Amit   42\n",
      "Second  Divya   37\n"
     ]
    }
   ],
   "execution_count": 14
  },
  {
   "metadata": {
    "ExecuteTime": {
     "end_time": "2024-07-31T17:53:47.769532Z",
     "start_time": "2024-07-31T17:53:47.767129Z"
    }
   },
   "cell_type": "code",
   "source": [
    "## From dictionary of list\n",
    "dict3 = {\"Name\" : [\"Amit\", \"Divya\",\"Medhansh\",\"Idhika\"], \"Age\" : [42, 37, 10, 6]}\n",
    "df = pd.DataFrame(dict3, index=[\"First\", \"Second\", \"Third\", \"Fourth\"])\n",
    "print(df)"
   ],
   "id": "2cc7a42d8d73f455",
   "outputs": [
    {
     "name": "stdout",
     "output_type": "stream",
     "text": [
      "            Name  Age\n",
      "First       Amit   42\n",
      "Second     Divya   37\n",
      "Third   Medhansh   10\n",
      "Fourth    Idhika    6\n"
     ]
    }
   ],
   "execution_count": 15
  },
  {
   "metadata": {
    "ExecuteTime": {
     "end_time": "2024-07-31T17:53:47.773056Z",
     "start_time": "2024-07-31T17:53:47.770076Z"
    }
   },
   "cell_type": "code",
   "source": [
    "print(f'Dimension - {df.ndim}')\n",
    "print(f'Shape - {df.shape}')\n",
    "print(f'Size - {df.size}')\n",
    "print(f'Index - {df.index}')\n",
    "print(f'Values - {df.values}')\n",
    "print(f'Transpose \\n- {df.T}')"
   ],
   "id": "3815a74727f2099a",
   "outputs": [
    {
     "name": "stdout",
     "output_type": "stream",
     "text": [
      "Dimension - 2\n",
      "Shape - (4, 2)\n",
      "Size - 8\n",
      "Index - Index(['First', 'Second', 'Third', 'Fourth'], dtype='object')\n",
      "Values - [['Amit' 42]\n",
      " ['Divya' 37]\n",
      " ['Medhansh' 10]\n",
      " ['Idhika' 6]]\n",
      "Transpose \n",
      "-      First Second     Third  Fourth\n",
      "Name  Amit  Divya  Medhansh  Idhika\n",
      "Age     42     37        10       6\n"
     ]
    }
   ],
   "execution_count": 16
  },
  {
   "metadata": {
    "ExecuteTime": {
     "end_time": "2024-07-31T17:57:09.264230Z",
     "start_time": "2024-07-31T17:57:09.257295Z"
    }
   },
   "cell_type": "code",
   "source": [
    "df=pd.read_csv(\"../data/school.csv\", sep=\",\", header=0)\n",
    "df.head()"
   ],
   "id": "dadbd010a7c43315",
   "outputs": [
    {
     "data": {
      "text/plain": [
       "       name  age  class  marks  year_of_birth\n",
       "0      Amit   14      8     90         1992.0\n",
       "1     Divya   14      8     98         1993.0\n",
       "2  Medhansh   12      6     99         1995.0\n",
       "3    Idhika    6      2     98            NaN"
      ],
      "text/html": [
       "<div>\n",
       "<style scoped>\n",
       "    .dataframe tbody tr th:only-of-type {\n",
       "        vertical-align: middle;\n",
       "    }\n",
       "\n",
       "    .dataframe tbody tr th {\n",
       "        vertical-align: top;\n",
       "    }\n",
       "\n",
       "    .dataframe thead th {\n",
       "        text-align: right;\n",
       "    }\n",
       "</style>\n",
       "<table border=\"1\" class=\"dataframe\">\n",
       "  <thead>\n",
       "    <tr style=\"text-align: right;\">\n",
       "      <th></th>\n",
       "      <th>name</th>\n",
       "      <th>age</th>\n",
       "      <th>class</th>\n",
       "      <th>marks</th>\n",
       "      <th>year_of_birth</th>\n",
       "    </tr>\n",
       "  </thead>\n",
       "  <tbody>\n",
       "    <tr>\n",
       "      <th>0</th>\n",
       "      <td>Amit</td>\n",
       "      <td>14</td>\n",
       "      <td>8</td>\n",
       "      <td>90</td>\n",
       "      <td>1992.0</td>\n",
       "    </tr>\n",
       "    <tr>\n",
       "      <th>1</th>\n",
       "      <td>Divya</td>\n",
       "      <td>14</td>\n",
       "      <td>8</td>\n",
       "      <td>98</td>\n",
       "      <td>1993.0</td>\n",
       "    </tr>\n",
       "    <tr>\n",
       "      <th>2</th>\n",
       "      <td>Medhansh</td>\n",
       "      <td>12</td>\n",
       "      <td>6</td>\n",
       "      <td>99</td>\n",
       "      <td>1995.0</td>\n",
       "    </tr>\n",
       "    <tr>\n",
       "      <th>3</th>\n",
       "      <td>Idhika</td>\n",
       "      <td>6</td>\n",
       "      <td>2</td>\n",
       "      <td>98</td>\n",
       "      <td>NaN</td>\n",
       "    </tr>\n",
       "  </tbody>\n",
       "</table>\n",
       "</div>"
      ]
     },
     "execution_count": 20,
     "metadata": {},
     "output_type": "execute_result"
    }
   ],
   "execution_count": 20
  },
  {
   "metadata": {
    "ExecuteTime": {
     "end_time": "2024-07-31T17:57:18.602283Z",
     "start_time": "2024-07-31T17:57:18.592832Z"
    }
   },
   "cell_type": "code",
   "source": "df.describe()",
   "id": "4459e72e900ee248",
   "outputs": [
    {
     "data": {
      "text/plain": [
       "             age     class      marks  year_of_birth\n",
       "count   4.000000  4.000000   4.000000       3.000000\n",
       "mean   11.500000  6.000000  96.250000    1993.333333\n",
       "std     3.785939  2.828427   4.193249       1.527525\n",
       "min     6.000000  2.000000  90.000000    1992.000000\n",
       "25%    10.500000  5.000000  96.000000    1992.500000\n",
       "50%    13.000000  7.000000  98.000000    1993.000000\n",
       "75%    14.000000  8.000000  98.250000    1994.000000\n",
       "max    14.000000  8.000000  99.000000    1995.000000"
      ],
      "text/html": [
       "<div>\n",
       "<style scoped>\n",
       "    .dataframe tbody tr th:only-of-type {\n",
       "        vertical-align: middle;\n",
       "    }\n",
       "\n",
       "    .dataframe tbody tr th {\n",
       "        vertical-align: top;\n",
       "    }\n",
       "\n",
       "    .dataframe thead th {\n",
       "        text-align: right;\n",
       "    }\n",
       "</style>\n",
       "<table border=\"1\" class=\"dataframe\">\n",
       "  <thead>\n",
       "    <tr style=\"text-align: right;\">\n",
       "      <th></th>\n",
       "      <th>age</th>\n",
       "      <th>class</th>\n",
       "      <th>marks</th>\n",
       "      <th>year_of_birth</th>\n",
       "    </tr>\n",
       "  </thead>\n",
       "  <tbody>\n",
       "    <tr>\n",
       "      <th>count</th>\n",
       "      <td>4.000000</td>\n",
       "      <td>4.000000</td>\n",
       "      <td>4.000000</td>\n",
       "      <td>3.000000</td>\n",
       "    </tr>\n",
       "    <tr>\n",
       "      <th>mean</th>\n",
       "      <td>11.500000</td>\n",
       "      <td>6.000000</td>\n",
       "      <td>96.250000</td>\n",
       "      <td>1993.333333</td>\n",
       "    </tr>\n",
       "    <tr>\n",
       "      <th>std</th>\n",
       "      <td>3.785939</td>\n",
       "      <td>2.828427</td>\n",
       "      <td>4.193249</td>\n",
       "      <td>1.527525</td>\n",
       "    </tr>\n",
       "    <tr>\n",
       "      <th>min</th>\n",
       "      <td>6.000000</td>\n",
       "      <td>2.000000</td>\n",
       "      <td>90.000000</td>\n",
       "      <td>1992.000000</td>\n",
       "    </tr>\n",
       "    <tr>\n",
       "      <th>25%</th>\n",
       "      <td>10.500000</td>\n",
       "      <td>5.000000</td>\n",
       "      <td>96.000000</td>\n",
       "      <td>1992.500000</td>\n",
       "    </tr>\n",
       "    <tr>\n",
       "      <th>50%</th>\n",
       "      <td>13.000000</td>\n",
       "      <td>7.000000</td>\n",
       "      <td>98.000000</td>\n",
       "      <td>1993.000000</td>\n",
       "    </tr>\n",
       "    <tr>\n",
       "      <th>75%</th>\n",
       "      <td>14.000000</td>\n",
       "      <td>8.000000</td>\n",
       "      <td>98.250000</td>\n",
       "      <td>1994.000000</td>\n",
       "    </tr>\n",
       "    <tr>\n",
       "      <th>max</th>\n",
       "      <td>14.000000</td>\n",
       "      <td>8.000000</td>\n",
       "      <td>99.000000</td>\n",
       "      <td>1995.000000</td>\n",
       "    </tr>\n",
       "  </tbody>\n",
       "</table>\n",
       "</div>"
      ]
     },
     "execution_count": 21,
     "metadata": {},
     "output_type": "execute_result"
    }
   ],
   "execution_count": 21
  },
  {
   "metadata": {
    "ExecuteTime": {
     "end_time": "2024-07-31T17:57:53.769687Z",
     "start_time": "2024-07-31T17:57:53.763054Z"
    }
   },
   "cell_type": "code",
   "source": "df.info()",
   "id": "c9ac19d2fa437889",
   "outputs": [
    {
     "name": "stdout",
     "output_type": "stream",
     "text": [
      "<class 'pandas.core.frame.DataFrame'>\n",
      "RangeIndex: 4 entries, 0 to 3\n",
      "Data columns (total 5 columns):\n",
      " #   Column         Non-Null Count  Dtype  \n",
      "---  ------         --------------  -----  \n",
      " 0   name           4 non-null      object \n",
      " 1   age            4 non-null      int64  \n",
      " 2   class          4 non-null      int64  \n",
      " 3   marks          4 non-null      int64  \n",
      " 4   year_of_birth  3 non-null      float64\n",
      "dtypes: float64(1), int64(3), object(1)\n",
      "memory usage: 292.0+ bytes\n"
     ]
    }
   ],
   "execution_count": 22
  },
  {
   "metadata": {
    "ExecuteTime": {
     "end_time": "2024-07-31T18:04:49.760819Z",
     "start_time": "2024-07-31T18:04:49.727977Z"
    }
   },
   "cell_type": "code",
   "source": "df['class'].value_counts().plot(kind=\"pie\")",
   "id": "2cab4d5ceea0fbdf",
   "outputs": [
    {
     "data": {
      "text/plain": [
       "<Axes: ylabel='count'>"
      ]
     },
     "execution_count": 30,
     "metadata": {},
     "output_type": "execute_result"
    },
    {
     "data": {
      "text/plain": [
       "<Figure size 640x480 with 1 Axes>"
      ],
      "image/png": "[encoded data removed]"
     },
     "metadata": {},
     "output_type": "display_data"
    }
   ],
   "execution_count": 30
  },
  {
   "metadata": {
    "ExecuteTime": {
     "end_time": "2024-07-31T18:08:43.806409Z",
     "start_time": "2024-07-31T18:08:43.802833Z"
    }
   },
   "cell_type": "code",
   "source": "df.iloc[2:4, :3]",
   "id": "83e3960bce8c9f63",
   "outputs": [
    {
     "data": {
      "text/plain": [
       "       name  age  class\n",
       "2  Medhansh   12      6\n",
       "3    Idhika    6      2"
      ],
      "text/html": [
       "<div>\n",
       "<style scoped>\n",
       "    .dataframe tbody tr th:only-of-type {\n",
       "        vertical-align: middle;\n",
       "    }\n",
       "\n",
       "    .dataframe tbody tr th {\n",
       "        vertical-align: top;\n",
       "    }\n",
       "\n",
       "    .dataframe thead th {\n",
       "        text-align: right;\n",
       "    }\n",
       "</style>\n",
       "<table border=\"1\" class=\"dataframe\">\n",
       "  <thead>\n",
       "    <tr style=\"text-align: right;\">\n",
       "      <th></th>\n",
       "      <th>name</th>\n",
       "      <th>age</th>\n",
       "      <th>class</th>\n",
       "    </tr>\n",
       "  </thead>\n",
       "  <tbody>\n",
       "    <tr>\n",
       "      <th>2</th>\n",
       "      <td>Medhansh</td>\n",
       "      <td>12</td>\n",
       "      <td>6</td>\n",
       "    </tr>\n",
       "    <tr>\n",
       "      <th>3</th>\n",
       "      <td>Idhika</td>\n",
       "      <td>6</td>\n",
       "      <td>2</td>\n",
       "    </tr>\n",
       "  </tbody>\n",
       "</table>\n",
       "</div>"
      ]
     },
     "execution_count": 39,
     "metadata": {},
     "output_type": "execute_result"
    }
   ],
   "execution_count": 39
  },
  {
   "metadata": {
    "ExecuteTime": {
     "end_time": "2024-07-31T18:11:36.164193Z",
     "start_time": "2024-07-31T18:11:36.160275Z"
    }
   },
   "cell_type": "code",
   "source": "df.loc[2:, [\"name\", \"marks\"]]",
   "id": "a23fbb3d537351b4",
   "outputs": [
    {
     "data": {
      "text/plain": [
       "       name  marks\n",
       "2  Medhansh     99\n",
       "3    Idhika     98"
      ],
      "text/html": [
       "<div>\n",
       "<style scoped>\n",
       "    .dataframe tbody tr th:only-of-type {\n",
       "        vertical-align: middle;\n",
       "    }\n",
       "\n",
       "    .dataframe tbody tr th {\n",
       "        vertical-align: top;\n",
       "    }\n",
       "\n",
       "    .dataframe thead th {\n",
       "        text-align: right;\n",
       "    }\n",
       "</style>\n",
       "<table border=\"1\" class=\"dataframe\">\n",
       "  <thead>\n",
       "    <tr style=\"text-align: right;\">\n",
       "      <th></th>\n",
       "      <th>name</th>\n",
       "      <th>marks</th>\n",
       "    </tr>\n",
       "  </thead>\n",
       "  <tbody>\n",
       "    <tr>\n",
       "      <th>2</th>\n",
       "      <td>Medhansh</td>\n",
       "      <td>99</td>\n",
       "    </tr>\n",
       "    <tr>\n",
       "      <th>3</th>\n",
       "      <td>Idhika</td>\n",
       "      <td>98</td>\n",
       "    </tr>\n",
       "  </tbody>\n",
       "</table>\n",
       "</div>"
      ]
     },
     "execution_count": 41,
     "metadata": {},
     "output_type": "execute_result"
    }
   ],
   "execution_count": 41
  },
  {
   "metadata": {
    "ExecuteTime": {
     "end_time": "2024-07-31T18:15:59.832339Z",
     "start_time": "2024-07-31T18:15:59.827813Z"
    }
   },
   "cell_type": "code",
   "source": "df.query(expr='marks > 90 and age < 10')",
   "id": "5a2d8796790a6693",
   "outputs": [
    {
     "data": {
      "text/plain": [
       "     name  age  class  marks  year_of_birth\n",
       "3  Idhika    6      2     98            NaN"
      ],
      "text/html": [
       "<div>\n",
       "<style scoped>\n",
       "    .dataframe tbody tr th:only-of-type {\n",
       "        vertical-align: middle;\n",
       "    }\n",
       "\n",
       "    .dataframe tbody tr th {\n",
       "        vertical-align: top;\n",
       "    }\n",
       "\n",
       "    .dataframe thead th {\n",
       "        text-align: right;\n",
       "    }\n",
       "</style>\n",
       "<table border=\"1\" class=\"dataframe\">\n",
       "  <thead>\n",
       "    <tr style=\"text-align: right;\">\n",
       "      <th></th>\n",
       "      <th>name</th>\n",
       "      <th>age</th>\n",
       "      <th>class</th>\n",
       "      <th>marks</th>\n",
       "      <th>year_of_birth</th>\n",
       "    </tr>\n",
       "  </thead>\n",
       "  <tbody>\n",
       "    <tr>\n",
       "      <th>3</th>\n",
       "      <td>Idhika</td>\n",
       "      <td>6</td>\n",
       "      <td>2</td>\n",
       "      <td>98</td>\n",
       "      <td>NaN</td>\n",
       "    </tr>\n",
       "  </tbody>\n",
       "</table>\n",
       "</div>"
      ]
     },
     "execution_count": 58,
     "metadata": {},
     "output_type": "execute_result"
    }
   ],
   "execution_count": 58
  },
  {
   "metadata": {
    "ExecuteTime": {
     "end_time": "2024-07-31T18:19:20.507144Z",
     "start_time": "2024-07-31T18:19:20.503369Z"
    }
   },
   "cell_type": "code",
   "source": "df.sort_values(by=[\"marks\",\"age\"], ascending=[False,True])",
   "id": "b05071048ee5e439",
   "outputs": [
    {
     "data": {
      "text/plain": [
       "       name  age  class  marks  year_of_birth\n",
       "2  Medhansh   12      6     99         1995.0\n",
       "3    Idhika    6      2     98            NaN\n",
       "1     Divya   14      8     98         1993.0\n",
       "0      Amit   14      8     90         1992.0"
      ],
      "text/html": [
       "<div>\n",
       "<style scoped>\n",
       "    .dataframe tbody tr th:only-of-type {\n",
       "        vertical-align: middle;\n",
       "    }\n",
       "\n",
       "    .dataframe tbody tr th {\n",
       "        vertical-align: top;\n",
       "    }\n",
       "\n",
       "    .dataframe thead th {\n",
       "        text-align: right;\n",
       "    }\n",
       "</style>\n",
       "<table border=\"1\" class=\"dataframe\">\n",
       "  <thead>\n",
       "    <tr style=\"text-align: right;\">\n",
       "      <th></th>\n",
       "      <th>name</th>\n",
       "      <th>age</th>\n",
       "      <th>class</th>\n",
       "      <th>marks</th>\n",
       "      <th>year_of_birth</th>\n",
       "    </tr>\n",
       "  </thead>\n",
       "  <tbody>\n",
       "    <tr>\n",
       "      <th>2</th>\n",
       "      <td>Medhansh</td>\n",
       "      <td>12</td>\n",
       "      <td>6</td>\n",
       "      <td>99</td>\n",
       "      <td>1995.0</td>\n",
       "    </tr>\n",
       "    <tr>\n",
       "      <th>3</th>\n",
       "      <td>Idhika</td>\n",
       "      <td>6</td>\n",
       "      <td>2</td>\n",
       "      <td>98</td>\n",
       "      <td>NaN</td>\n",
       "    </tr>\n",
       "    <tr>\n",
       "      <th>1</th>\n",
       "      <td>Divya</td>\n",
       "      <td>14</td>\n",
       "      <td>8</td>\n",
       "      <td>98</td>\n",
       "      <td>1993.0</td>\n",
       "    </tr>\n",
       "    <tr>\n",
       "      <th>0</th>\n",
       "      <td>Amit</td>\n",
       "      <td>14</td>\n",
       "      <td>8</td>\n",
       "      <td>90</td>\n",
       "      <td>1992.0</td>\n",
       "    </tr>\n",
       "  </tbody>\n",
       "</table>\n",
       "</div>"
      ]
     },
     "execution_count": 62,
     "metadata": {},
     "output_type": "execute_result"
    }
   ],
   "execution_count": 62
  },
  {
   "metadata": {
    "ExecuteTime": {
     "end_time": "2024-07-31T18:25:09.485534Z",
     "start_time": "2024-07-31T18:25:09.481451Z"
    }
   },
   "cell_type": "code",
   "source": "df.isnull()",
   "id": "4c6267e6a8b6df91",
   "outputs": [
    {
     "data": {
      "text/plain": [
       "    name    age  class  marks  year_of_birth\n",
       "0  False  False  False  False          False\n",
       "1  False  False  False  False          False\n",
       "2  False  False  False  False          False\n",
       "3  False  False  False  False           True"
      ],
      "text/html": [
       "<div>\n",
       "<style scoped>\n",
       "    .dataframe tbody tr th:only-of-type {\n",
       "        vertical-align: middle;\n",
       "    }\n",
       "\n",
       "    .dataframe tbody tr th {\n",
       "        vertical-align: top;\n",
       "    }\n",
       "\n",
       "    .dataframe thead th {\n",
       "        text-align: right;\n",
       "    }\n",
       "</style>\n",
       "<table border=\"1\" class=\"dataframe\">\n",
       "  <thead>\n",
       "    <tr style=\"text-align: right;\">\n",
       "      <th></th>\n",
       "      <th>name</th>\n",
       "      <th>age</th>\n",
       "      <th>class</th>\n",
       "      <th>marks</th>\n",
       "      <th>year_of_birth</th>\n",
       "    </tr>\n",
       "  </thead>\n",
       "  <tbody>\n",
       "    <tr>\n",
       "      <th>0</th>\n",
       "      <td>False</td>\n",
       "      <td>False</td>\n",
       "      <td>False</td>\n",
       "      <td>False</td>\n",
       "      <td>False</td>\n",
       "    </tr>\n",
       "    <tr>\n",
       "      <th>1</th>\n",
       "      <td>False</td>\n",
       "      <td>False</td>\n",
       "      <td>False</td>\n",
       "      <td>False</td>\n",
       "      <td>False</td>\n",
       "    </tr>\n",
       "    <tr>\n",
       "      <th>2</th>\n",
       "      <td>False</td>\n",
       "      <td>False</td>\n",
       "      <td>False</td>\n",
       "      <td>False</td>\n",
       "      <td>False</td>\n",
       "    </tr>\n",
       "    <tr>\n",
       "      <th>3</th>\n",
       "      <td>False</td>\n",
       "      <td>False</td>\n",
       "      <td>False</td>\n",
       "      <td>False</td>\n",
       "      <td>True</td>\n",
       "    </tr>\n",
       "  </tbody>\n",
       "</table>\n",
       "</div>"
      ]
     },
     "execution_count": 63,
     "metadata": {},
     "output_type": "execute_result"
    }
   ],
   "execution_count": 63
  },
  {
   "metadata": {
    "ExecuteTime": {
     "end_time": "2024-07-31T18:25:16.624001Z",
     "start_time": "2024-07-31T18:25:16.618676Z"
    }
   },
   "cell_type": "code",
   "source": "df.isna()",
   "id": "27e01c3b459fdc4b",
   "outputs": [
    {
     "data": {
      "text/plain": [
       "    name    age  class  marks  year_of_birth\n",
       "0  False  False  False  False          False\n",
       "1  False  False  False  False          False\n",
       "2  False  False  False  False          False\n",
       "3  False  False  False  False           True"
      ],
      "text/html": [
       "<div>\n",
       "<style scoped>\n",
       "    .dataframe tbody tr th:only-of-type {\n",
       "        vertical-align: middle;\n",
       "    }\n",
       "\n",
       "    .dataframe tbody tr th {\n",
       "        vertical-align: top;\n",
       "    }\n",
       "\n",
       "    .dataframe thead th {\n",
       "        text-align: right;\n",
       "    }\n",
       "</style>\n",
       "<table border=\"1\" class=\"dataframe\">\n",
       "  <thead>\n",
       "    <tr style=\"text-align: right;\">\n",
       "      <th></th>\n",
       "      <th>name</th>\n",
       "      <th>age</th>\n",
       "      <th>class</th>\n",
       "      <th>marks</th>\n",
       "      <th>year_of_birth</th>\n",
       "    </tr>\n",
       "  </thead>\n",
       "  <tbody>\n",
       "    <tr>\n",
       "      <th>0</th>\n",
       "      <td>False</td>\n",
       "      <td>False</td>\n",
       "      <td>False</td>\n",
       "      <td>False</td>\n",
       "      <td>False</td>\n",
       "    </tr>\n",
       "    <tr>\n",
       "      <th>1</th>\n",
       "      <td>False</td>\n",
       "      <td>False</td>\n",
       "      <td>False</td>\n",
       "      <td>False</td>\n",
       "      <td>False</td>\n",
       "    </tr>\n",
       "    <tr>\n",
       "      <th>2</th>\n",
       "      <td>False</td>\n",
       "      <td>False</td>\n",
       "      <td>False</td>\n",
       "      <td>False</td>\n",
       "      <td>False</td>\n",
       "    </tr>\n",
       "    <tr>\n",
       "      <th>3</th>\n",
       "      <td>False</td>\n",
       "      <td>False</td>\n",
       "      <td>False</td>\n",
       "      <td>False</td>\n",
       "      <td>True</td>\n",
       "    </tr>\n",
       "  </tbody>\n",
       "</table>\n",
       "</div>"
      ]
     },
     "execution_count": 64,
     "metadata": {},
     "output_type": "execute_result"
    }
   ],
   "execution_count": 64
  },
  {
   "metadata": {
    "ExecuteTime": {
     "end_time": "2024-07-31T18:27:41.572947Z",
     "start_time": "2024-07-31T18:27:41.567469Z"
    }
   },
   "cell_type": "code",
   "source": "df.fillna(value=2000)",
   "id": "7a49afc3e098ff9c",
   "outputs": [
    {
     "data": {
      "text/plain": [
       "       name  age  class  marks  year_of_birth\n",
       "0      Amit   14      8     90         1992.0\n",
       "1     Divya   14      8     98         1993.0\n",
       "2  Medhansh   12      6     99         1995.0\n",
       "3    Idhika    6      2     98         2000.0"
      ],
      "text/html": [
       "<div>\n",
       "<style scoped>\n",
       "    .dataframe tbody tr th:only-of-type {\n",
       "        vertical-align: middle;\n",
       "    }\n",
       "\n",
       "    .dataframe tbody tr th {\n",
       "        vertical-align: top;\n",
       "    }\n",
       "\n",
       "    .dataframe thead th {\n",
       "        text-align: right;\n",
       "    }\n",
       "</style>\n",
       "<table border=\"1\" class=\"dataframe\">\n",
       "  <thead>\n",
       "    <tr style=\"text-align: right;\">\n",
       "      <th></th>\n",
       "      <th>name</th>\n",
       "      <th>age</th>\n",
       "      <th>class</th>\n",
       "      <th>marks</th>\n",
       "      <th>year_of_birth</th>\n",
       "    </tr>\n",
       "  </thead>\n",
       "  <tbody>\n",
       "    <tr>\n",
       "      <th>0</th>\n",
       "      <td>Amit</td>\n",
       "      <td>14</td>\n",
       "      <td>8</td>\n",
       "      <td>90</td>\n",
       "      <td>1992.0</td>\n",
       "    </tr>\n",
       "    <tr>\n",
       "      <th>1</th>\n",
       "      <td>Divya</td>\n",
       "      <td>14</td>\n",
       "      <td>8</td>\n",
       "      <td>98</td>\n",
       "      <td>1993.0</td>\n",
       "    </tr>\n",
       "    <tr>\n",
       "      <th>2</th>\n",
       "      <td>Medhansh</td>\n",
       "      <td>12</td>\n",
       "      <td>6</td>\n",
       "      <td>99</td>\n",
       "      <td>1995.0</td>\n",
       "    </tr>\n",
       "    <tr>\n",
       "      <th>3</th>\n",
       "      <td>Idhika</td>\n",
       "      <td>6</td>\n",
       "      <td>2</td>\n",
       "      <td>98</td>\n",
       "      <td>2000.0</td>\n",
       "    </tr>\n",
       "  </tbody>\n",
       "</table>\n",
       "</div>"
      ]
     },
     "execution_count": 67,
     "metadata": {},
     "output_type": "execute_result"
    }
   ],
   "execution_count": 67
  },
  {
   "metadata": {
    "ExecuteTime": {
     "end_time": "2024-07-31T18:32:54.061863Z",
     "start_time": "2024-07-31T18:32:54.056572Z"
    }
   },
   "cell_type": "code",
   "source": "df.drop(1)",
   "id": "bf21a097ae7fd1ff",
   "outputs": [
    {
     "data": {
      "text/plain": [
       "       name  age  class  marks  year_of_birth\n",
       "0      Amit   14      8     90         1992.0\n",
       "2  Medhansh   12      6     99         1995.0\n",
       "3    Idhika    6      2     98            NaN"
      ],
      "text/html": [
       "<div>\n",
       "<style scoped>\n",
       "    .dataframe tbody tr th:only-of-type {\n",
       "        vertical-align: middle;\n",
       "    }\n",
       "\n",
       "    .dataframe tbody tr th {\n",
       "        vertical-align: top;\n",
       "    }\n",
       "\n",
       "    .dataframe thead th {\n",
       "        text-align: right;\n",
       "    }\n",
       "</style>\n",
       "<table border=\"1\" class=\"dataframe\">\n",
       "  <thead>\n",
       "    <tr style=\"text-align: right;\">\n",
       "      <th></th>\n",
       "      <th>name</th>\n",
       "      <th>age</th>\n",
       "      <th>class</th>\n",
       "      <th>marks</th>\n",
       "      <th>year_of_birth</th>\n",
       "    </tr>\n",
       "  </thead>\n",
       "  <tbody>\n",
       "    <tr>\n",
       "      <th>0</th>\n",
       "      <td>Amit</td>\n",
       "      <td>14</td>\n",
       "      <td>8</td>\n",
       "      <td>90</td>\n",
       "      <td>1992.0</td>\n",
       "    </tr>\n",
       "    <tr>\n",
       "      <th>2</th>\n",
       "      <td>Medhansh</td>\n",
       "      <td>12</td>\n",
       "      <td>6</td>\n",
       "      <td>99</td>\n",
       "      <td>1995.0</td>\n",
       "    </tr>\n",
       "    <tr>\n",
       "      <th>3</th>\n",
       "      <td>Idhika</td>\n",
       "      <td>6</td>\n",
       "      <td>2</td>\n",
       "      <td>98</td>\n",
       "      <td>NaN</td>\n",
       "    </tr>\n",
       "  </tbody>\n",
       "</table>\n",
       "</div>"
      ]
     },
     "execution_count": 68,
     "metadata": {},
     "output_type": "execute_result"
    }
   ],
   "execution_count": 68
  },
  {
   "metadata": {
    "ExecuteTime": {
     "end_time": "2024-07-31T18:33:19.740977Z",
     "start_time": "2024-07-31T18:33:19.735771Z"
    }
   },
   "cell_type": "code",
   "source": "df.drop(['marks','class'], axis=1)",
   "id": "e81409bc63cae7b0",
   "outputs": [
    {
     "data": {
      "text/plain": [
       "       name  age  year_of_birth\n",
       "0      Amit   14         1992.0\n",
       "1     Divya   14         1993.0\n",
       "2  Medhansh   12         1995.0\n",
       "3    Idhika    6            NaN"
      ],
      "text/html": [
       "<div>\n",
       "<style scoped>\n",
       "    .dataframe tbody tr th:only-of-type {\n",
       "        vertical-align: middle;\n",
       "    }\n",
       "\n",
       "    .dataframe tbody tr th {\n",
       "        vertical-align: top;\n",
       "    }\n",
       "\n",
       "    .dataframe thead th {\n",
       "        text-align: right;\n",
       "    }\n",
       "</style>\n",
       "<table border=\"1\" class=\"dataframe\">\n",
       "  <thead>\n",
       "    <tr style=\"text-align: right;\">\n",
       "      <th></th>\n",
       "      <th>name</th>\n",
       "      <th>age</th>\n",
       "      <th>year_of_birth</th>\n",
       "    </tr>\n",
       "  </thead>\n",
       "  <tbody>\n",
       "    <tr>\n",
       "      <th>0</th>\n",
       "      <td>Amit</td>\n",
       "      <td>14</td>\n",
       "      <td>1992.0</td>\n",
       "    </tr>\n",
       "    <tr>\n",
       "      <th>1</th>\n",
       "      <td>Divya</td>\n",
       "      <td>14</td>\n",
       "      <td>1993.0</td>\n",
       "    </tr>\n",
       "    <tr>\n",
       "      <th>2</th>\n",
       "      <td>Medhansh</td>\n",
       "      <td>12</td>\n",
       "      <td>1995.0</td>\n",
       "    </tr>\n",
       "    <tr>\n",
       "      <th>3</th>\n",
       "      <td>Idhika</td>\n",
       "      <td>6</td>\n",
       "      <td>NaN</td>\n",
       "    </tr>\n",
       "  </tbody>\n",
       "</table>\n",
       "</div>"
      ]
     },
     "execution_count": 70,
     "metadata": {},
     "output_type": "execute_result"
    }
   ],
   "execution_count": 70
  },
  {
   "metadata": {
    "ExecuteTime": {
     "end_time": "2024-07-31T18:45:44.816943Z",
     "start_time": "2024-07-31T18:45:44.814540Z"
    }
   },
   "cell_type": "code",
   "source": "df.groupby(['class'])['name'].count()",
   "id": "5714bd05d478d374",
   "outputs": [
    {
     "data": {
      "text/plain": [
       "class\n",
       "2    1\n",
       "6    1\n",
       "8    2\n",
       "Name: name, dtype: int64"
      ]
     },
     "execution_count": 90,
     "metadata": {},
     "output_type": "execute_result"
    }
   ],
   "execution_count": 90
  },
  {
   "metadata": {},
   "cell_type": "markdown",
   "source": "",
   "id": "5a3fc9c13567abb4"
  },
  {
   "metadata": {
    "ExecuteTime": {
     "end_time": "2024-07-31T18:46:50.732763Z",
     "start_time": "2024-07-31T18:46:50.729378Z"
    }
   },
   "cell_type": "code",
   "source": "df.rename(columns={'name':'Name', 'class':'Class'})",
   "id": "d483ce500583a07",
   "outputs": [
    {
     "data": {
      "text/plain": [
       "       Name  age  Class  marks  year_of_birth\n",
       "0      Amit   14      8     90         1992.0\n",
       "1     Divya   14      8     98         1993.0\n",
       "2  Medhansh   12      6     99         1995.0\n",
       "3    Idhika    6      2     98            NaN"
      ],
      "text/html": [
       "<div>\n",
       "<style scoped>\n",
       "    .dataframe tbody tr th:only-of-type {\n",
       "        vertical-align: middle;\n",
       "    }\n",
       "\n",
       "    .dataframe tbody tr th {\n",
       "        vertical-align: top;\n",
       "    }\n",
       "\n",
       "    .dataframe thead th {\n",
       "        text-align: right;\n",
       "    }\n",
       "</style>\n",
       "<table border=\"1\" class=\"dataframe\">\n",
       "  <thead>\n",
       "    <tr style=\"text-align: right;\">\n",
       "      <th></th>\n",
       "      <th>Name</th>\n",
       "      <th>age</th>\n",
       "      <th>Class</th>\n",
       "      <th>marks</th>\n",
       "      <th>year_of_birth</th>\n",
       "    </tr>\n",
       "  </thead>\n",
       "  <tbody>\n",
       "    <tr>\n",
       "      <th>0</th>\n",
       "      <td>Amit</td>\n",
       "      <td>14</td>\n",
       "      <td>8</td>\n",
       "      <td>90</td>\n",
       "      <td>1992.0</td>\n",
       "    </tr>\n",
       "    <tr>\n",
       "      <th>1</th>\n",
       "      <td>Divya</td>\n",
       "      <td>14</td>\n",
       "      <td>8</td>\n",
       "      <td>98</td>\n",
       "      <td>1993.0</td>\n",
       "    </tr>\n",
       "    <tr>\n",
       "      <th>2</th>\n",
       "      <td>Medhansh</td>\n",
       "      <td>12</td>\n",
       "      <td>6</td>\n",
       "      <td>99</td>\n",
       "      <td>1995.0</td>\n",
       "    </tr>\n",
       "    <tr>\n",
       "      <th>3</th>\n",
       "      <td>Idhika</td>\n",
       "      <td>6</td>\n",
       "      <td>2</td>\n",
       "      <td>98</td>\n",
       "      <td>NaN</td>\n",
       "    </tr>\n",
       "  </tbody>\n",
       "</table>\n",
       "</div>"
      ]
     },
     "execution_count": 92,
     "metadata": {},
     "output_type": "execute_result"
    }
   ],
   "execution_count": 92
  }
 ],
 "metadata": {
  "kernelspec": {
   "display_name": "Python 3",
   "language": "python",
   "name": "python3"
  },
  "language_info": {
   "codemirror_mode": {
    "name": "ipython",
    "version": 2
   },
   "file_extension": ".py",
   "mimetype": "text/x-python",
   "name": "python",
   "nbconvert_exporter": "python",
   "pygments_lexer": "ipython2",
   "version": "2.7.6"
  }
 },
 "nbformat": 4,
 "nbformat_minor": 5
}
